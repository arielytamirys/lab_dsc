{
 "cells": [
  {
   "cell_type": "markdown",
   "id": "5a82d121",
   "metadata": {},
   "source": [
    "Use no seu algoritmo o bubble sort, para orgazinar seus numeros de forma correta.\n"
   ]
  },
  {
   "cell_type": "code",
   "execution_count": 28,
   "id": "91f030c4",
   "metadata": {},
   "outputs": [],
   "source": [
    "lista = [7,9,0,1,5,3,2,8,6,4,5,10]"
   ]
  },
  {
   "cell_type": "code",
   "execution_count": 29,
   "id": "c7f91c79",
   "metadata": {},
   "outputs": [],
   "source": [
    "def bubble_sort(arr):\n",
    "    n = len(arr)\n",
    "    \n",
    "    #para cada elemento i do array\n",
    "    for i in range(n):\n",
    "        \n",
    "        #para cada elemneto i do array\n",
    "        for j in range(0, n-i-1):\n",
    "    \n",
    "            #se elemento i for maior que elemento j\n",
    "            if arr[j] > arr[j+1]:\n",
    "               \n",
    "                #pegue os elementos i e j\n",
    "                arr[j], arr[j+1] = arr[j+1], arr[j]\n",
    "    \n",
    "    return arr   "
   ]
  },
  {
   "cell_type": "code",
   "execution_count": 30,
   "id": "e8040a5e",
   "metadata": {},
   "outputs": [
    {
     "name": "stdout",
     "output_type": "stream",
     "text": [
      "[0, 1, 2, 3, 4, 5, 5, 6, 7, 8, 9, 10]\n"
     ]
    }
   ],
   "source": [
    "print(bubble_sort(lista))"
   ]
  },
  {
   "cell_type": "code",
   "execution_count": null,
   "id": "2aac61d0",
   "metadata": {},
   "outputs": [],
   "source": []
  }
 ],
 "metadata": {
  "kernelspec": {
   "display_name": "Python 3 (ipykernel)",
   "language": "python",
   "name": "python3"
  },
  "language_info": {
   "codemirror_mode": {
    "name": "ipython",
    "version": 3
   },
   "file_extension": ".py",
   "mimetype": "text/x-python",
   "name": "python",
   "nbconvert_exporter": "python",
   "pygments_lexer": "ipython3",
   "version": "3.9.13"
  }
 },
 "nbformat": 4,
 "nbformat_minor": 5
}
