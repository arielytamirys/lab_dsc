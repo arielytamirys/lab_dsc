{
 "cells": [
  {
   "cell_type": "markdown",
   "id": "3e7a7e82",
   "metadata": {},
   "source": [
    "O usuario precisa calcular a area de um Paralelograma (Um Paralelograma é um quadre lateral com lados opostos). De boas vindas ao Usuario, em seguida Peça ao Usuario Digitar a Base,depois a altura e calcule as duas medidas exibindo o resultado final na tela para o usuario."
   ]
  },
  {
   "cell_type": "code",
   "execution_count": 1,
   "id": "39c24f8b",
   "metadata": {},
   "outputs": [
    {
     "name": "stdout",
     "output_type": "stream",
     "text": [
      "Bem vindo ao Calculo de Area de Paralelograma\n"
     ]
    }
   ],
   "source": [
    "print ('Bem vindo ao Calculo de Area de Paralelograma')\n"
   ]
  },
  {
   "cell_type": "code",
   "execution_count": 2,
   "id": "0f29961b",
   "metadata": {},
   "outputs": [
    {
     "name": "stdout",
     "output_type": "stream",
     "text": [
      "Qual é a primeira medida?30\n"
     ]
    }
   ],
   "source": [
    "base = float(input('Qual é a Base?'))"
   ]
  },
  {
   "cell_type": "code",
   "execution_count": 4,
   "id": "349ba8f1",
   "metadata": {},
   "outputs": [
    {
     "name": "stdout",
     "output_type": "stream",
     "text": [
      "Qual é a segunda medida?60\n"
     ]
    }
   ],
   "source": [
    "altura = float(input('Qual é a altura?'))"
   ]
  },
  {
   "cell_type": "code",
   "execution_count": 5,
   "id": "6efb9338",
   "metadata": {},
   "outputs": [
    {
     "ename": "NameError",
     "evalue": "name 'base' is not defined",
     "output_type": "error",
     "traceback": [
      "\u001b[1;31m---------------------------------------------------------------------------\u001b[0m",
      "\u001b[1;31mNameError\u001b[0m                                 Traceback (most recent call last)",
      "\u001b[1;32m~\\AppData\\Local\\Temp\\ipykernel_6352\\3881863688.py\u001b[0m in \u001b[0;36m<module>\u001b[1;34m\u001b[0m\n\u001b[1;32m----> 1\u001b[1;33m \u001b[0mcalculo\u001b[0m \u001b[1;33m=\u001b[0m  \u001b[0mbase\u001b[0m \u001b[1;33m*\u001b[0m \u001b[0maltura\u001b[0m\u001b[1;33m\u001b[0m\u001b[1;33m\u001b[0m\u001b[0m\n\u001b[0m",
      "\u001b[1;31mNameError\u001b[0m: name 'base' is not defined"
     ]
    }
   ],
   "source": [
    "calculo =  base * altura"
   ]
  },
  {
   "cell_type": "code",
   "execution_count": 7,
   "id": "39d7a1c8",
   "metadata": {},
   "outputs": [
    {
     "ename": "NameError",
     "evalue": "name 'calculo' is not defined",
     "output_type": "error",
     "traceback": [
      "\u001b[1;31m---------------------------------------------------------------------------\u001b[0m",
      "\u001b[1;31mNameError\u001b[0m                                 Traceback (most recent call last)",
      "\u001b[1;32m~\\AppData\\Local\\Temp\\ipykernel_6352\\987595976.py\u001b[0m in \u001b[0;36m<module>\u001b[1;34m\u001b[0m\n\u001b[1;32m----> 1\u001b[1;33m \u001b[0mprint\u001b[0m \u001b[1;33m(\u001b[0m\u001b[1;34m'A area de Paralelograma é:'\u001b[0m\u001b[1;33m,\u001b[0m \u001b[0mcalculo\u001b[0m\u001b[1;33m)\u001b[0m\u001b[1;33m\u001b[0m\u001b[1;33m\u001b[0m\u001b[0m\n\u001b[0m",
      "\u001b[1;31mNameError\u001b[0m: name 'calculo' is not defined"
     ]
    }
   ],
   "source": [
    "print ('A area de Paralelograma é:', calculo)"
   ]
  },
  {
   "cell_type": "code",
   "execution_count": null,
   "id": "9c750b9c",
   "metadata": {},
   "outputs": [],
   "source": []
  }
 ],
 "metadata": {
  "kernelspec": {
   "display_name": "Python 3 (ipykernel)",
   "language": "python",
   "name": "python3"
  },
  "language_info": {
   "codemirror_mode": {
    "name": "ipython",
    "version": 3
   },
   "file_extension": ".py",
   "mimetype": "text/x-python",
   "name": "python",
   "nbconvert_exporter": "python",
   "pygments_lexer": "ipython3",
   "version": "3.9.13"
  }
 },
 "nbformat": 4,
 "nbformat_minor": 5
}
