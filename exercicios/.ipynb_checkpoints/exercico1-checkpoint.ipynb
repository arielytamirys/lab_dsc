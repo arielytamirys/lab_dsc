{
 "cells": [
  {
   "cell_type": "markdown",
   "id": "4f052cab",
   "metadata": {},
   "source": [
    "Crie uma lista que imprima numeros de 1 a 100, e que mostre os numeros pares,mas somente se o numero for divisivel por 4."
   ]
  },
  {
   "cell_type": "code",
   "execution_count": 4,
   "id": "ba962ce4",
   "metadata": {},
   "outputs": [
    {
     "name": "stdout",
     "output_type": "stream",
     "text": [
      "4\n",
      "8\n",
      "12\n",
      "16\n",
      "20\n",
      "24\n",
      "28\n",
      "32\n",
      "36\n",
      "40\n",
      "44\n",
      "48\n",
      "52\n",
      "56\n",
      "60\n",
      "64\n",
      "68\n",
      "72\n",
      "76\n",
      "80\n",
      "84\n",
      "88\n",
      "92\n",
      "96\n",
      "100\n"
     ]
    }
   ],
   "source": [
    "numero = list(range(1,101))\n",
    "for numero in numero:\n",
    "    if numero  % 2 == 0 and numero % 4 == 0 :\n",
    "        print(numero)"
   ]
  },
  {
   "cell_type": "code",
   "execution_count": null,
   "id": "f9b3f4c6",
   "metadata": {},
   "outputs": [],
   "source": []
  }
 ],
 "metadata": {
  "kernelspec": {
   "display_name": "Python 3 (ipykernel)",
   "language": "python",
   "name": "python3"
  },
  "language_info": {
   "codemirror_mode": {
    "name": "ipython",
    "version": 3
   },
   "file_extension": ".py",
   "mimetype": "text/x-python",
   "name": "python",
   "nbconvert_exporter": "python",
   "pygments_lexer": "ipython3",
   "version": "3.9.13"
  }
 },
 "nbformat": 4,
 "nbformat_minor": 5
}
