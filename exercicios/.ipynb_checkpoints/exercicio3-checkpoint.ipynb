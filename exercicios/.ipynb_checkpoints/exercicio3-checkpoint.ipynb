{
 "cells": [
  {
   "cell_type": "markdown",
   "id": "4db16f02",
   "metadata": {},
   "source": [
    "Crie uma Calculadora que contenha, Saudação ao usuario, com as operações de : Adiçao, subtração, multiplação, divisão."
   ]
  },
  {
   "cell_type": "code",
   "execution_count": 2,
   "id": "d74c31d1",
   "metadata": {},
   "outputs": [
    {
     "name": "stdout",
     "output_type": "stream",
     "text": [
      "Ola Bem Vindo a Calculadora!!.\n"
     ]
    }
   ],
   "source": [
    "print('Ola Bem Vindo a Calculadora!!.')"
   ]
  },
  {
   "cell_type": "code",
   "execution_count": 3,
   "id": "e56023d9",
   "metadata": {},
   "outputs": [
    {
     "name": "stdout",
     "output_type": "stream",
     "text": [
      "Digite o primeiro numero : 2\n"
     ]
    }
   ],
   "source": [
    " n1 = int(input('Digite o primeiro numero : '))"
   ]
  },
  {
   "cell_type": "code",
   "execution_count": 4,
   "id": "10a0f64b",
   "metadata": {},
   "outputs": [
    {
     "name": "stdout",
     "output_type": "stream",
     "text": [
      "Digite o segundo numero : 4\n"
     ]
    }
   ],
   "source": [
    "n2 = int(input('Digite o segundo numero : '))"
   ]
  },
  {
   "cell_type": "code",
   "execution_count": 5,
   "id": "2f835a7f",
   "metadata": {},
   "outputs": [
    {
     "name": "stdout",
     "output_type": "stream",
     "text": [
      "Digite o simbolo de Qual operação você deseja (adição \"+\" , subtração \"-\", Multiplicação \"*\", divisão \"/\".)*\n"
     ]
    }
   ],
   "source": [
    "operacao = input('Digite o simbolo de Qual operação você deseja (adição \"+\" , subtração \"-\", Multiplicação \"*\", divisão \"/\".)')"
   ]
  },
  {
   "cell_type": "code",
   "execution_count": null,
   "id": "8e08e39f",
   "metadata": {},
   "outputs": [],
   "source": [
    "if operacao == \"+\":\n",
    "    resulto = n1 + n2\n",
    "    print ('o resultado é :', resultado)"
   ]
  },
  {
   "cell_type": "code",
   "execution_count": null,
   "id": "fd9455b7",
   "metadata": {},
   "outputs": [],
   "source": [
    "elif operacao == \"-\":\n",
    "    resulto = n1 - n2\n",
    "    print ('o resultado é :', resultado)"
   ]
  },
  {
   "cell_type": "code",
   "execution_count": null,
   "id": "44ba47a1",
   "metadata": {},
   "outputs": [],
   "source": [
    "elif operacao == \"*\":\n",
    "    resulto = n1 * n2\n",
    "    print ('o resultado é :', resultado)"
   ]
  },
  {
   "cell_type": "code",
   "execution_count": null,
   "id": "0e2b4364",
   "metadata": {},
   "outputs": [],
   "source": [
    "elif operacao == \"/\":\n",
    "    resulto = n1 / n2\n",
    "    print ('o resultado é :', resultado)"
   ]
  },
  {
   "cell_type": "code",
   "execution_count": null,
   "id": "9f5e44d7",
   "metadata": {},
   "outputs": [],
   "source": [
    "else:\n",
    "    print('operação invalida!')"
   ]
  }
 ],
 "metadata": {
  "kernelspec": {
   "display_name": "Python 3 (ipykernel)",
   "language": "python",
   "name": "python3"
  },
  "language_info": {
   "codemirror_mode": {
    "name": "ipython",
    "version": 3
   },
   "file_extension": ".py",
   "mimetype": "text/x-python",
   "name": "python",
   "nbconvert_exporter": "python",
   "pygments_lexer": "ipython3",
   "version": "3.9.13"
  }
 },
 "nbformat": 4,
 "nbformat_minor": 5
}
