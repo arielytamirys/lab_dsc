{
 "cells": [
  {
   "cell_type": "markdown",
   "id": "3e7a7e82",
   "metadata": {},
   "source": [
    "O usuario precisa calcular a area de um Paralelograma (Um Paralelograma é um quadre lateral com lados opostos). De boas vindas ao Usuario, em seguida Peça ao Usuario Digitar a Base,depois a altura e calcule as duas medidas exibindo o resultado final na tela para o usuario."
   ]
  },
  {
   "cell_type": "code",
   "execution_count": 5,
   "id": "0ca7deec",
   "metadata": {},
   "outputs": [
    {
     "name": "stdout",
     "output_type": "stream",
     "text": [
      "Bem vindo ao Calculo de Area de Paralelograma\n"
     ]
    }
   ],
   "source": [
    "print ('Bem vindo ao Calculo de Area de Paralelograma')\n"
   ]
  },
  {
   "cell_type": "code",
   "execution_count": 6,
   "id": "7465a0be",
   "metadata": {},
   "outputs": [
    {
     "name": "stdout",
     "output_type": "stream",
     "text": [
      "Qual é a Base?3\n"
     ]
    }
   ],
   "source": [
    "base = float(input('Qual é a Base?'))"
   ]
  },
  {
   "cell_type": "code",
   "execution_count": 7,
   "id": "1a3ca770",
   "metadata": {},
   "outputs": [
    {
     "name": "stdout",
     "output_type": "stream",
     "text": [
      "Qual é a altura? 2\n"
     ]
    }
   ],
   "source": [
    "altura = float(input('Qual é a altura? '))"
   ]
  },
  {
   "cell_type": "code",
   "execution_count": 8,
   "id": "c053d810",
   "metadata": {},
   "outputs": [],
   "source": [
    "area = base * altura"
   ]
  },
  {
   "cell_type": "code",
   "execution_count": 9,
   "id": "1f5f6096",
   "metadata": {},
   "outputs": [
    {
     "name": "stdout",
     "output_type": "stream",
     "text": [
      "A area de Paralelograma é: 6.0\n"
     ]
    }
   ],
   "source": [
    "print ('A area de Paralelograma é:', area)"
   ]
  },
  {
   "cell_type": "code",
   "execution_count": null,
   "id": "9c750b9c",
   "metadata": {},
   "outputs": [],
   "source": []
  }
 ],
 "metadata": {
  "kernelspec": {
   "display_name": "Python 3 (ipykernel)",
   "language": "python",
   "name": "python3"
  },
  "language_info": {
   "codemirror_mode": {
    "name": "ipython",
    "version": 3
   },
   "file_extension": ".py",
   "mimetype": "text/x-python",
   "name": "python",
   "nbconvert_exporter": "python",
   "pygments_lexer": "ipython3",
   "version": "3.9.13"
  }
 },
 "nbformat": 4,
 "nbformat_minor": 5
}
